{
 "cells": [
  {
   "cell_type": "code",
   "execution_count": 12,
   "metadata": {},
   "outputs": [
    {
     "name": "stdout",
     "output_type": "stream",
     "text": [
      "[2002, 2009, 2016, 2023, 2037, 2044, 2051, 2058, 2072, 2079, 2086, 2093, 2107, 2114, 2121, 2128, 2142, 2149, 2156, 2163, 2177, 2184, 2191, 2198, 2212, 2219, 2226, 2233, 2247, 2254, 2261, 2268, 2282, 2289, 2296, 2303, 2317, 2324, 2331, 2338, 2352, 2359, 2366, 2373, 2387, 2394, 2401, 2408, 2422, 2429, 2436, 2443, 2457, 2464, 2471, 2478, 2492, 2499, 2506, 2513, 2527, 2534, 2541, 2548, 2562, 2569, 2576, 2583, 2597, 2604, 2611, 2618, 2632, 2639, 2646, 2653, 2667, 2674, 2681, 2688, 2702, 2709, 2716, 2723, 2737, 2744, 2751, 2758, 2772, 2779, 2786, 2793, 2807, 2814, 2821, 2828, 2842, 2849, 2856, 2863, 2877, 2884, 2891, 2898, 2912, 2919, 2926, 2933, 2947, 2954, 2961, 2968, 2982, 2989, 2996, 3003, 3017, 3024, 3031, 3038, 3052, 3059, 3066, 3073, 3087, 3094, 3101, 3108, 3122, 3129, 3136, 3143, 3157, 3164, 3171, 3178, 3192, 3199]\n"
     ]
    }
   ],
   "source": [
    "l=[]\n",
    "for x in range(2000,3201):\n",
    "    if x%7==0 and x%5!=0:\n",
    "        l.append(x)\n",
    "print(l)"
   ]
  },
  {
   "cell_type": "code",
   "execution_count": 21,
   "metadata": {},
   "outputs": [
    {
     "name": "stdout",
     "output_type": "stream",
     "text": [
      "donner x0\n",
      "1\n"
     ]
    }
   ],
   "source": [
    "def fact(x):\n",
    "    if x==1:\n",
    "        return x\n",
    "    else :\n",
    "        return (x*fact(x-1))\n",
    "x=int(input('donner x'))\n",
    "if x==0:\n",
    "    print(1)\n",
    "else:\n",
    "    fact(x)\n"
   ]
  },
  {
   "cell_type": "code",
   "execution_count": 22,
   "metadata": {},
   "outputs": [
    {
     "name": "stdout",
     "output_type": "stream",
     "text": [
      "donner x8\n",
      "{1: 1, 2: 4, 3: 9, 4: 16, 5: 25, 6: 36, 7: 49, 8: 64}\n"
     ]
    }
   ],
   "source": [
    "x=int(input(\"donner x\"))\n",
    "dict={}\n",
    "for i in range(1,x+1):\n",
    "    dict[i]=i*i\n",
    "print(dict)\n",
    "\n",
    "    "
   ]
  },
  {
   "cell_type": "code",
   "execution_count": 30,
   "metadata": {},
   "outputs": [
    {
     "name": "stdout",
     "output_type": "stream",
     "text": [
      "donner n3\n",
      "donner une chainehkkhhhhhhh\n",
      "hkkhhh\n"
     ]
    }
   ],
   "source": [
    "x=int(input(\"donner n\"))\n",
    "ch=input(\"donner une chaine\")\n",
    "ch1=ch[0:x]+ch[x+1:]\n",
    "print(ch1)"
   ]
  },
  {
   "cell_type": "code",
   "execution_count": 45,
   "metadata": {},
   "outputs": [
    {
     "name": "stdout",
     "output_type": "stream",
     "text": [
      "[[0.4048963039085671, -0.10473349871065456, 2.2298530633056868, 0.1880844058748812, 1.4252103487984034], [-0.20628938237457795, -0.06992089368395624, -0.007947450366615968, 1.0710788770042048, -1.492609802545804], [0.3895385259358788, -0.06994179981863845, -0.5086325028279036, 0.005374489937285221, -0.105824069025275], [-1.2734595780851652, 0.8971851999652144, 0.2634831869185177, 1.1388806493869645, 0.6710713722516387]]\n"
     ]
    }
   ],
   "source": [
    "import  numpy as np\n",
    "array=np.random.randn(4,5)\n",
    "array1=array.tolist()\n",
    "print(array1)"
   ]
  },
  {
   "cell_type": "code",
   "execution_count": 52,
   "metadata": {},
   "outputs": [
    {
     "name": "stdout",
     "output_type": "stream",
     "text": [
      "[array(0.02930044), array(0.44960818)]\n"
     ]
    }
   ],
   "source": [
    "import  numpy as np\n",
    "array=np.random.randn(1,3)\n",
    "array1=np.random.randn(1,3)\n",
    "l=[]\n",
    "l.append(np.cov(array))\n",
    "l.append(np.cov(array1))\n",
    "print(l)"
   ]
  },
  {
   "cell_type": "code",
   "execution_count": 59,
   "metadata": {},
   "outputs": [
    {
     "name": "stdout",
     "output_type": "stream",
     "text": [
      "D: 100\n",
      "18\n"
     ]
    }
   ],
   "source": [
    "import math\n",
    "D=int(input(\"D: \"))\n",
    "formule = lambda D : math.sqrt((2 * 50 * D)/30)\n",
    "print(int(formule(D)))"
   ]
  },
  {
   "cell_type": "code",
   "execution_count": null,
   "metadata": {},
   "outputs": [],
   "source": []
  }
 ],
 "metadata": {
  "kernelspec": {
   "display_name": "Python 3",
   "language": "python",
   "name": "python3"
  },
  "language_info": {
   "codemirror_mode": {
    "name": "ipython",
    "version": 3
   },
   "file_extension": ".py",
   "mimetype": "text/x-python",
   "name": "python",
   "nbconvert_exporter": "python",
   "pygments_lexer": "ipython3",
   "version": "3.8.5"
  }
 },
 "nbformat": 4,
 "nbformat_minor": 4
}
